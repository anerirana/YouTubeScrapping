{
  "nbformat": 4,
  "nbformat_minor": 0,
  "metadata": {
    "colab": {
      "name": "YouTubeDownloader.ipynb",
      "provenance": [],
      "collapsed_sections": [
        "lqwoall_L6ry"
      ]
    },
    "kernelspec": {
      "name": "python3",
      "display_name": "Python 3"
    },
    "language_info": {
      "name": "python"
    }
  },
  "cells": [
    {
      "cell_type": "code",
      "metadata": {
        "id": "9DQklZ2xwYxb"
      },
      "source": [
        "!pip3 install pytube==10.7.1\n",
        "!pip3 install git+https://github.com/kazanture/YouPy.git#egg=YouPy"
      ],
      "execution_count": null,
      "outputs": []
    },
    {
      "cell_type": "code",
      "metadata": {
        "colab": {
          "base_uri": "https://localhost:8080/"
        },
        "id": "UIHU4Ptjx1kO",
        "outputId": "08e15e35-cbc3-4595-e257-e5ea886b6d3f"
      },
      "source": [
        "# Mount google drive\n",
        "from google.colab import drive\n",
        "drive.mount('/content/gdrive')"
      ],
      "execution_count": 45,
      "outputs": [
        {
          "output_type": "stream",
          "text": [
            "Drive already mounted at /content/gdrive; to attempt to forcibly remount, call drive.mount(\"/content/gdrive\", force_remount=True).\n"
          ],
          "name": "stdout"
        }
      ]
    },
    {
      "cell_type": "code",
      "metadata": {
        "id": "4fck0ZtWAcp6"
      },
      "source": [
        "import pandas as pd\n",
        "from pytube import YouTube\n",
        "from pathlib import Path\n",
        "import subprocess\n",
        "import time\n",
        "\n",
        "DIR_PATH = '/content/gdrive/MyDrive/YouTubeData'\n",
        "\n",
        "df = pd.read_csv(DIR_PATH+\"/youtube_data_record.csv\")"
      ],
      "execution_count": 46,
      "outputs": []
    },
    {
      "cell_type": "code",
      "metadata": {
        "id": "1Uh7woJthebp"
      },
      "source": [
        "# To re-number files\n",
        "\n",
        "# count = 131\n",
        "# filenames = []\n",
        "# for i in range (91):  \n",
        "#   filenames.append(\"1_00\"+str(count + i))\n",
        "\n",
        "# df['Filename'] = filenames\n",
        "# df.to_csv(DIR_PATH+'/youtube_data_record.csv', index=False)"
      ],
      "execution_count": null,
      "outputs": []
    },
    {
      "cell_type": "code",
      "metadata": {
        "id": "B9d83LxjvdxZ"
      },
      "source": [
        "# To download videos in part\n",
        "# new_df = df.copy(deep=True)\n",
        "# new_df = new_df.loc[84:90]\n",
        "# new_df = new_df.reset_index(drop=True)"
      ],
      "execution_count": 47,
      "outputs": []
    },
    {
      "cell_type": "code",
      "metadata": {
        "id": "zxHVbrruxiEt"
      },
      "source": [
        "# Either download videos in part (30 at a time) \n",
        "# OR continuosly monitor for 429: too many reqiuests exception\n",
        "# Otherwise you migth get banned from youtube\n",
        "for i,link in enumerate(new_df['Fetched from']):\n",
        "  try: \n",
        "    yt = YouTube(link)\n",
        "    SAVE_PATH = DIR_PATH + \"/webm/\"\n",
        "    # get the audio with highest resolution available and download\n",
        "    yt.streams.filter(file_extension='webm', only_audio=True).order_by('abr').desc().first().download(SAVE_PATH, filename=new_df['Filename'][i]) # add file name while saving\n",
        "\n",
        "    # Convert webm file format to wav\n",
        "    in_name = DIR_PATH + \"/webm/\" + new_df['Filename'][i] + \".webm\"\n",
        "    out_file = DIR_PATH + \"/wav/\" + new_df['Filename'][i] + \".wav\"\n",
        "    cmd = \"ffmpeg -i \" + in_name + \" -c:a pcm_f32le \" + out_file + \"  -loglevel error\"\n",
        "    p = subprocess.Popen(cmd, stdout=subprocess.PIPE, stderr=subprocess.PIPE, shell=True)\n",
        "    stdout, stderr = p.communicate()\n",
        "    if p.wait()!= 0:\n",
        "      print(\"Found some error\")\n",
        "      print(stderr)\n",
        "    time.sleep(20)\n",
        "  except Exception as e:    \n",
        "    print(\"Caught Exception: \",e)\n",
        "    print(\"Skipping audio file: \", new_df['Filename'][i])\n",
        "    time.sleep(180)"
      ],
      "execution_count": 42,
      "outputs": []
    },
    {
      "cell_type": "markdown",
      "metadata": {
        "id": "lqwoall_L6ry"
      },
      "source": [
        "# **YouPy Experiment**"
      ]
    },
    {
      "cell_type": "code",
      "metadata": {
        "id": "mNpe5apd8CZi"
      },
      "source": [
        "import youpy as yp"
      ],
      "execution_count": null,
      "outputs": []
    },
    {
      "cell_type": "code",
      "metadata": {
        "id": "oGLnDEQ-40W6"
      },
      "source": [
        "from YouPy import YouTubeItem"
      ],
      "execution_count": null,
      "outputs": []
    },
    {
      "cell_type": "code",
      "metadata": {
        "id": "icEqUbb04HM-"
      },
      "source": [
        "video_url = 'https://www.youtube.com/watch?v=KAuecX_971A'\n",
        "filename = '1_00179'\n",
        "COOKIE = 'VISITOR_INFO1_LIVE=e4R2Z4XSmeE; CONSENT=YES+IN.en+201907; _ga=GA1.2.1587996303.1602320392; LOGIN_INFO=AFmmF2swRQIgZVoUSzk3rQ2EYY975wZWN61EJwchUceQInrg-ybQNYACIQDdvPuoWMLd-ZhbgpB9VqD3o3sdvr19uWY5USgtfpjc-w:QUQ3MjNmeHZpbEdqOEZrSVVuZGU5a2dSMkF5d3A2blpyc3hvY2piQzU1T1VQMFZ1TFVIdlk0c25pUzZ6VkxoY0EtTl9qXzRmMk5jdm5fcFljWVBPdlhuc2tvTkk1ME5GVjZSRzNFalZBZ3NzdWVqM0JuU0RoQi11Z3pZNXlUbGFzbmhaRHhaM1phNXBtczdxZmY2bFNHZ3lyTHc0aDZKbzNvMkRjQzZVaHlBeVVqUEdmeU5PTlBF; PREF=tz=Asia.Calcutta&al=en-GB&f4=4000000; HSID=AteBV7VEVe6PoAe6K; SSID=AycQs44e8wGjeNrLX; APISID=KTWe0XznP7757y0-/AV2n525DOwdl-Z7US; SAPISID=Be6SNvts4GM_mI2_/AUXHtXDd5lxasYHbz; __Secure-3PAPISID=Be6SNvts4GM_mI2_/AUXHtXDd5lxasYHbz; YSC=PcEyOVQBxz8; SID=8QctACufg5WHjEaLSmf3VY3CYM-OeXWodW-FdFWP1ht5KLeeJ6t7PdHQKlUK4mu9ypJ4YQ.; __Secure-3PSID=8QctACufg5WHjEaLSmf3VY3CYM-OeXWodW-FdFWP1ht5KLeea_H62zKAINJObhp6dCPnTA.; SIDCC=AJi4QfH2uD0IzuXbFQ3YrK2s_wy-2rnPO36x2RDIMflu0fc0bunAxJTTerAD0cu7cGMBh_uScZCa; __Secure-3PSIDCC=AJi4QfGpYB8NLSNLj5-G0jpp_txGPBM188iyWkfRKy5-QoADI81bL3aS8I05t1VuHrkIBg5D9Ho; ST-110r5av=itct=CIcDENwwIhMIgfWKq4io8AIVMsNzAR3lBQn1MgpnLWhpZ2gtcmVjWg9GRXdoYXRfdG9fd2F0Y2iaAQYQjh4YngE=&csn=MC42MjgxNTc3NzgwNzM3Mzcz&endpoint={\"clickTrackingParams\":\"CIcDENwwIhMIgfWKq4io8AIVMsNzAR3lBQn1MgpnLWhpZ2gtcmVjWg9GRXdoYXRfdG9fd2F0Y2iaAQYQjh4YngE=\",\"commandMetadata\":{\"webCommandMetadata\":{\"url\":\"/watch?v=-cGGjsgLsJ8\",\"webPageType\":\"WEB_PAGE_TYPE_WATCH\",\"rootVe\":3832}},\"watchEndpoint\":{\"videoId\":\"-cGGjsgLsJ8\"}}'"
      ],
      "execution_count": null,
      "outputs": []
    },
    {
      "cell_type": "code",
      "metadata": {
        "id": "trWsfMH34wT9"
      },
      "source": [
        "youtube_item = YouTubeItem(video_url, request_headers = {'cookie': COOKIE})\n",
        "SAVE_PATH = DIR_PATH + \"/webm/\"\n",
        "v_1080p = youtube_item.streams.filter(file_extension='webm', only_audio=True).order_by('abr').desc().first().download(SAVE_PATH, filename=filename)"
      ],
      "execution_count": null,
      "outputs": []
    },
    {
      "cell_type": "code",
      "metadata": {
        "id": "FsB1cmT98gor"
      },
      "source": [
        "YouPy.__file__"
      ],
      "execution_count": null,
      "outputs": []
    },
    {
      "cell_type": "code",
      "metadata": {
        "id": "BwREwLIG-aQB"
      },
      "source": [
        "pd.set_option('display.max_rows',10)"
      ],
      "execution_count": 17,
      "outputs": []
    }
  ]
}