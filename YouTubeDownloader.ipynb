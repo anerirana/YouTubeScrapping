{
 "cells": [
  {
   "cell_type": "code",
   "execution_count": null,
   "metadata": {
    "id": "9DQklZ2xwYxb"
   },
   "outputs": [],
   "source": [
    "!pip3 install pytube==10.7.1\n",
    "!pip3 install git+https://github.com/kazanture/YouPy.git#egg=YouPy"
   ]
  },
  {
   "cell_type": "code",
   "execution_count": null,
   "metadata": {
    "colab": {
     "base_uri": "https://localhost:8080/"
    },
    "id": "UIHU4Ptjx1kO",
    "outputId": "08e15e35-cbc3-4595-e257-e5ea886b6d3f"
   },
   "outputs": [
    {
     "name": "stdout",
     "output_type": "stream",
     "text": [
      "Drive already mounted at /content/gdrive; to attempt to forcibly remount, call drive.mount(\"/content/gdrive\", force_remount=True).\n"
     ]
    }
   ],
   "source": [
    "# Mount google drive\n",
    "from google.colab import drive\n",
    "drive.mount('/content/gdrive')"
   ]
  },
  {
   "cell_type": "code",
   "execution_count": null,
   "metadata": {
    "id": "4fck0ZtWAcp6"
   },
   "outputs": [],
   "source": [
    "import pandas as pd\n",
    "from pytube import YouTube\n",
    "from pathlib import Path\n",
    "import subprocess\n",
    "import time\n",
    "\n",
    "DIR_PATH = '/content/gdrive/MyDrive/YouTubeData'\n",
    "\n",
    "df = pd.read_csv(DIR_PATH+\"/youtube_data_record.csv\")"
   ]
  },
  {
   "cell_type": "code",
   "execution_count": null,
   "metadata": {
    "id": "1Uh7woJthebp"
   },
   "outputs": [],
   "source": [
    "# To re-number files\n",
    "\n",
    "# count = 131\n",
    "# filenames = []\n",
    "# for i in range (91):  \n",
    "#   filenames.append(\"1_00\"+str(count + i))\n",
    "\n",
    "# df['Filename'] = filenames\n",
    "# df.to_csv(DIR_PATH+'/youtube_data_record.csv', index=False)"
   ]
  },
  {
   "cell_type": "code",
   "execution_count": null,
   "metadata": {
    "id": "B9d83LxjvdxZ"
   },
   "outputs": [],
   "source": [
    "# To download videos in part\n",
    "# new_df = df.copy(deep=True)\n",
    "# new_df = new_df.loc[84:90]\n",
    "# new_df = new_df.reset_index(drop=True)"
   ]
  },
  {
   "cell_type": "code",
   "execution_count": null,
   "metadata": {
    "id": "zxHVbrruxiEt"
   },
   "outputs": [],
   "source": [
    "# Either download videos in part (30 at a time) \n",
    "# OR continuosly monitor for 429: too many reqiuests exception\n",
    "# Otherwise you migth get banned from youtube\n",
    "for i,link in enumerate(new_df['Fetched from']):\n",
    "  try: \n",
    "    yt = YouTube(link)\n",
    "    SAVE_PATH = DIR_PATH + \"/webm/\"\n",
    "    # get the audio with highest resolution available and download\n",
    "    yt.streams.filter(file_extension='webm', only_audio=True).order_by('abr').desc().first().download(SAVE_PATH, filename=new_df['Filename'][i])\n",
    "\n",
    "    # Convert webm file format to wav\n",
    "    in_name = DIR_PATH + \"/webm/\" + new_df['Filename'][i] + \".webm\"\n",
    "    out_file = DIR_PATH + \"/wav/\" + new_df['Filename'][i] + \".wav\"\n",
    "    cmd = \"ffmpeg -i \" + in_name + \" -c:a pcm_f32le \" + out_file + \"  -loglevel error\"\n",
    "    p = subprocess.Popen(cmd, stdout=subprocess.PIPE, stderr=subprocess.PIPE, shell=True)\n",
    "    stdout, stderr = p.communicate()\n",
    "    if p.wait()!= 0:\n",
    "      print(\"Found some error\")\n",
    "      print(stderr)\n",
    "    time.sleep(20)\n",
    "  except Exception as e:    \n",
    "    print(\"Caught Exception: \",e)\n",
    "    print(\"Skipping audio file: \", new_df['Filename'][i])\n",
    "    time.sleep(180)"
   ]
  },
  {
   "cell_type": "markdown",
   "metadata": {
    "id": "lqwoall_L6ry"
   },
   "source": [
    "# **YouPy Experiment**\n",
    "\n",
    "If you start getting 429 error response either wait for retry time specified in the HTTP response header or use YouPy to add cookies and conitnue download.\n",
    "\n",
    "NOTE: Adding personal cookies can result in permanent account ban from YouTube"
   ]
  },
  {
   "cell_type": "code",
   "execution_count": null,
   "metadata": {
    "id": "mNpe5apd8CZi"
   },
   "outputs": [],
   "source": [
    "import youpy as yp"
   ]
  },
  {
   "cell_type": "code",
   "execution_count": null,
   "metadata": {
    "id": "oGLnDEQ-40W6"
   },
   "outputs": [],
   "source": [
    "from YouPy import YouTubeItem"
   ]
  },
  {
   "cell_type": "code",
   "execution_count": null,
   "metadata": {
    "id": "icEqUbb04HM-"
   },
   "outputs": [],
   "source": [
    "video_url = 'https://www.youtube.com/watch?v=KAuecX_971A'\n",
    "filename = '1_00179'\n",
    "COOKIE = 'Get your cookie from browser developer tools'"
   ]
  },
  {
   "cell_type": "code",
   "execution_count": null,
   "metadata": {
    "id": "trWsfMH34wT9"
   },
   "outputs": [],
   "source": [
    "youtube_item = YouTubeItem(video_url, request_headers = {'cookie': COOKIE})\n",
    "SAVE_PATH = DIR_PATH + \"/webm/\"\n",
    "v_1080p = youtube_item.streams.filter(file_extension='webm', only_audio=True).order_by('abr').desc().first().download(SAVE_PATH, filename=filename)"
   ]
  }
 ],
 "metadata": {
  "colab": {
   "collapsed_sections": [
    "lqwoall_L6ry"
   ],
   "name": "YouTubeDownloader.ipynb",
   "provenance": []
  },
  "kernelspec": {
   "display_name": "Python 3",
   "language": "python",
   "name": "python3"
  },
  "language_info": {
   "codemirror_mode": {
    "name": "ipython",
    "version": 3
   },
   "file_extension": ".py",
   "mimetype": "text/x-python",
   "name": "python",
   "nbconvert_exporter": "python",
   "pygments_lexer": "ipython3",
   "version": "3.8.3"
  }
 },
 "nbformat": 4,
 "nbformat_minor": 1
}
